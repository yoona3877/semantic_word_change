{
  "nbformat": 4,
  "nbformat_minor": 0,
  "metadata": {
    "colab": {
      "name": "word2veclab.ipynb",
      "provenance": [],
      "collapsed_sections": []
    },
    "kernelspec": {
      "name": "python3",
      "display_name": "Python 3"
    }
  },
  "cells": [
    {
      "cell_type": "code",
      "metadata": {
        "colab": {
          "base_uri": "https://localhost:8080/"
        },
        "id": "sSNEJbyweCNE",
        "outputId": "0a071b70-b51b-46ed-e42e-dd8cadac2751"
      },
      "source": [
        "from google.colab import drive\n",
        "\n",
        "drive.mount('/content/gdrive')"
      ],
      "execution_count": 2,
      "outputs": [
        {
          "output_type": "stream",
          "text": [
            "Mounted at /content/gdrive\n"
          ],
          "name": "stdout"
        }
      ]
    },
    {
      "cell_type": "code",
      "metadata": {
        "id": "cnA_39RCdnpv"
      },
      "source": [
        "from gensim.models import KeyedVectors\n",
        "import nltk\n",
        "import csv \n",
        "from scipy import sparse, stats, spatial\n",
        "from scipy.spatial import distance\n",
        "import numpy as np\n",
        "import matplotlib.pyplot as plt\n",
        "import pandas as pd\n",
        "from sklearn.neighbors import NearestNeighbors\n",
        "from sklearn.metrics.pairwise import cosine_similarity\n",
        "from sklearn.base import BaseEstimator\n",
        "import pickle\n",
        "import math\n",
        "\n",
        "import statsmodels.api as sm\n",
        "from statsmodels.sandbox.regression.predstd import wls_prediction_std\n"
      ],
      "execution_count": 96,
      "outputs": []
    },
    {
      "cell_type": "code",
      "metadata": {
        "id": "Q7L4ibhWM73q"
      },
      "source": [
        "model = KeyedVectors.load_word2vec_format('/content/gdrive/My Drive/GoogleNews-vectors-negative300.bin.gz',binary=True)\n",
        "\n",
        "with open(\"/content/gdrive/My Drive/RG65.csv\", newline=\"\") as f:\n",
        "    reader = csv.reader(f)\n",
        "    rg65 = [(row[0].split()[1].split('_')[0], row[1].split()[1].split('_')[0], row[2]) for row in reader]\n",
        "\n",
        "human_similarity = [float(row[2]) for row in rg65]"
      ],
      "execution_count": 4,
      "outputs": []
    },
    {
      "cell_type": "code",
      "metadata": {
        "colab": {
          "base_uri": "https://localhost:8080/"
        },
        "id": "yPqld0k8haNS",
        "outputId": "7a7c4957-4478-4e2a-d091-1564ae5468d3"
      },
      "source": [
        "cos_similarity = [model.similarity(rg65[i][0], rg65[i][1]) for i in range(len(rg65))]\n",
        "lst = [(rg65[i][0], rg65[i][1], rg65[i][2], cos_similarity[i]) for i in range(len(rg65))]\n",
        "df = pd.DataFrame(lst, columns=['word1', 'word2', 'human similarity', 'cosine similarity'])\n",
        "print(df)\n",
        "\n",
        "# Compute Pearson correlation between word2vec-based cosine similiarities and human similarities\n",
        "pearsonr = stats.pearsonr(cos_similarity, human_similarity)\n",
        "print(\"Pearson Correlation of word2vec is : {}\".format(pearsonr))"
      ],
      "execution_count": 5,
      "outputs": [
        {
          "output_type": "stream",
          "text": [
            "         word1      word2 human similarity  cosine similarity\n",
            "0         cord      smile             0.02           0.018116\n",
            "1      rooster     voyage             0.04           0.062758\n",
            "2         noon     string             0.04           0.021655\n",
            "3        fruit    furnace             0.05           0.073215\n",
            "4    autograph      shore             0.06           0.034656\n",
            "..         ...        ...              ...                ...\n",
            "60     cushion     pillow             3.84           0.251615\n",
            "61    cemetery  graveyard             3.88           0.642481\n",
            "62  automobile        car             3.92           0.583837\n",
            "63      midday       noon             3.94           0.552741\n",
            "64         gem      jewel             3.94           0.621081\n",
            "\n",
            "[65 rows x 4 columns]\n",
            "Pearson Correlation of word2vec is : (0.772061614077633, 5.0910648410367523e-14)\n"
          ],
          "name": "stdout"
        }
      ]
    },
    {
      "cell_type": "code",
      "metadata": {
        "id": "T-AlBNUzakzQ"
      },
      "source": [
        "# Open words used for creating LSA vectors\n",
        "with open(\"/content/gdrive/My Drive/brown-RG65.csv\") as f:\n",
        "  reader = csv.reader(f)\n",
        "  brown_rg65 = list(reader)[0]"
      ],
      "execution_count": 107,
      "outputs": []
    },
    {
      "cell_type": "code",
      "metadata": {
        "id": "Q9krEzd4SNZW",
        "colab": {
          "base_uri": "https://localhost:8080/"
        },
        "outputId": "29314bfe-e210-4ff0-e4cd-2aaa6d67a4cb"
      },
      "source": [
        "# Semantic and Syntactic analogy\n",
        "analogy_file = '/content/gdrive/My Drive/word-test.v1.txt'\n",
        "with open(analogy_file) as f:\n",
        "    content = f.readlines()\n",
        "\n",
        "analogy_pairs = []\n",
        "semantic_pairs = []\n",
        "syntactic_pairs = []\n",
        "\n",
        "syntactic = False\n",
        "for line in content:\n",
        "  items = line.split()\n",
        "  items = [item.lower() for item in items]\n",
        "  if items[0] == \"amazing\": syntactic = True # start of syntactic pairs\n",
        "  result = all(elem in brown_rg65  for elem in items)\n",
        "  if result and not syntactic: semantic_pairs.append(items)\n",
        "  if result and syntactic: syntactic_pairs.append(items)\n",
        "\n",
        "print(\"Total semantic pairs: \", len(semantic_pairs))\n",
        "print(\"Total syntactic pairs: \", len(syntactic_pairs))\n",
        "\n",
        "# analogy_pairs = [pair for pair in analogy_pairs if len(pair) == 4]\n",
        "semantic_pairs = [pair for pair in semantic_pairs if len(pair) == 4]\n",
        "syntactic_pairs = [pair for pair in syntactic_pairs if len(pair) == 4]\n",
        "\n",
        "def get_accuracy(analogy_pairs):\n",
        "  n = len(analogy_pairs)\n",
        "  word1_vec = [model[pair[0]] for pair in analogy_pairs]\n",
        "  word2_vec = [model[pair[1]] for pair in analogy_pairs]\n",
        "  word3_vec = [model[pair[2]] for pair in analogy_pairs]\n",
        "  word4_vec = [model[pair[3]] for pair in analogy_pairs]\n",
        "\n",
        "  predict_vecs = [word2_vec[i] - word1_vec[i] + word3_vec[i] for i in range(n)]\n",
        "  predict_word1 = [model.most_similar(positive=[predict_vec], topn=1) for predict_vec in predict_vecs]\n",
        "\n",
        "  count = 0\n",
        "  for i in range(n):\n",
        "    if predict_word1[i][0][0] == analogy_pairs[i][3]: count = count + 1\n",
        "\n",
        "  accuracy = count / n\n",
        "\n",
        "  return accuracy"
      ],
      "execution_count": 27,
      "outputs": [
        {
          "output_type": "stream",
          "text": [
            "Total semantic pairs:  163\n",
            "Total syntactic pairs:  2045\n"
          ],
          "name": "stdout"
        }
      ]
    },
    {
      "cell_type": "code",
      "metadata": {
        "colab": {
          "base_uri": "https://localhost:8080/"
        },
        "id": "p9gFbzyfiVl4",
        "outputId": "9f67111c-61da-4da4-c98f-5d4cab4418c7"
      },
      "source": [
        "# semantic_accuracy = get_accuracy(semantic_pairs)\n",
        "syntactic_accuracy = get_accuracy(syntactic_pairs)\n",
        "\n",
        "# print(\"Semantic Accuracy: \", semantic_accuracy)\n",
        "print(\"Syntactic Accuracy: \", syntactic_accuracy)"
      ],
      "execution_count": 31,
      "outputs": [
        {
          "output_type": "stream",
          "text": [
            "Syntactic Accuracy:  0.13300733496332517\n"
          ],
          "name": "stdout"
        }
      ]
    },
    {
      "cell_type": "code",
      "metadata": {
        "colab": {
          "base_uri": "https://localhost:8080/"
        },
        "id": "efmi1HeGj2rJ",
        "outputId": "42933974-2e14-4895-87fd-b55495561876"
      },
      "source": [
        "count = 0\n",
        "for i in range(n):\n",
        "  if predict_word1[i][0][0] == analogy_pairs[i][3]: count = count + 1\n",
        "print(count/n)"
      ],
      "execution_count": 116,
      "outputs": [
        {
          "output_type": "stream",
          "text": [
            "0.14861803352967828\n"
          ],
          "name": "stdout"
        }
      ]
    },
    {
      "cell_type": "code",
      "metadata": {
        "id": "1Z8ALpj0Ems-"
      },
      "source": [
        "# 2. Diachronic word embedding\n",
        "with open('/content/gdrive/My Drive/embeddings/data.pkl', 'rb') as f:\n",
        "    diachronic_dict = pickle.load(f)"
      ],
      "execution_count": 36,
      "outputs": []
    },
    {
      "cell_type": "code",
      "metadata": {
        "id": "dk7KlhimDpZC"
      },
      "source": [
        "# Linear transformation to unified the vector coordinate system. \n",
        "# Cite: Kulkarni et al. 2015. Statistically Significant Detection of Linguistic Change. International World Wide Web Conference Committee\n",
        "# Source: https://github.com/viveksck/langchangetrack/blob/master/langchangetrack/utils/LocalLinearRegression.py\n",
        "\n",
        "'''\n",
        "    Given a list of numbers, produce a list of weights using the specified kernel\n",
        "'''\n",
        "class KernelFunctions:\n",
        "\n",
        "    @staticmethod\n",
        "    def uniform(distances):\n",
        "        return np.ones(len(distances))\n",
        "\n",
        "class LocalLinearRegression(BaseEstimator):\n",
        "\n",
        "    def __init__(self, k_nn, weight_func=KernelFunctions.uniform):\n",
        "        self.k_nn = k_nn\n",
        "        self.weight_func = weight_func\n",
        "        print(self.k_nn, self.weight_func)\n",
        "\n",
        "    '''\n",
        "        X: A list of points to transform\n",
        "        Y: The corresponding target points\n",
        "    '''\n",
        "\n",
        "    def fit(self, X, Y):\n",
        "        if len(X) != len(Y):\n",
        "            raise ValueError(\"len(X) != len(Y)\")\n",
        "        if len(X) < self.k_nn:\n",
        "            raise ValueError(\"Not enough points for local linear regression for the specified number of neighbors (\" +\n",
        "                             str(len(X)) + \" < \" + str(self.k_nn) + \")\")\n",
        "        self.X = np.array(X)\n",
        "        self.Y = np.array(Y)\n",
        "        self.nn = NearestNeighbors(n_neighbors=self.k_nn, algorithm='ball_tree', p=2)\n",
        "        self.nn.fit(self.X)\n",
        "        print(\"Fit the model\")\n",
        "\n",
        "    '''\n",
        "        X: The point to transform based on its neighbors \n",
        "    '''\n",
        "\n",
        "    def predict(self, X):\n",
        "        neighbors = self.nn.kneighbors(X)\n",
        "        distances = neighbors[0][0]\n",
        "        neighbor_indices = neighbors[1][0]\n",
        "        local_X = self.X.take(neighbor_indices, axis=0)\n",
        "        local_Y = self.Y.take(neighbor_indices, axis=0)\n",
        "        wls = sm.WLS(local_Y, local_X, weights=self.weight_func(distances)).fit()\n",
        "        return wls.predict(X)"
      ],
      "execution_count": 39,
      "outputs": []
    },
    {
      "cell_type": "code",
      "metadata": {
        "colab": {
          "base_uri": "https://localhost:8080/"
        },
        "id": "EzgI7v42EBB2",
        "outputId": "96604c2d-5627-41e0-9a48-6d160e256dc3"
      },
      "source": [
        "words = diachronic_dict['w']\n",
        "wordvec = np.array(diachronic_dict['E'])\n",
        "wordvec_t = np.transpose(wordvec, axes=[1,0,2]) # 10 x 2000 x 300\n",
        "\n",
        "logistic_model = LocalLinearRegression(k_nn=10)\n",
        "result = np.zeros((10,2000,300))\n",
        "# Linear transformation to align vector spaces into one coordinate system. \n",
        "for i in range(wordvec_t.shape[0]):\n",
        "  logistic_model.fit(wordvec_t[i], wordvec_t[-1])\n",
        "  result[i] = logistic_model.predict(wordvec_t[i])"
      ],
      "execution_count": 40,
      "outputs": [
        {
          "output_type": "stream",
          "text": [
            "10 <function KernelFunctions.uniform at 0x7f86cfdc4c80>\n",
            "Fit the model\n",
            "Fit the model\n",
            "Fit the model\n",
            "Fit the model\n",
            "Fit the model\n",
            "Fit the model\n",
            "Fit the model\n",
            "Fit the model\n",
            "Fit the model\n",
            "Fit the model\n"
          ],
          "name": "stdout"
        }
      ]
    },
    {
      "cell_type": "code",
      "metadata": {
        "id": "z90eYGOVD95I"
      },
      "source": [
        "# Get the highest distance throughout different time periods. Used for 1st and 2nd techniques. \n",
        "def get_lowest_similarity(transpose_matrix): # 2000 x 10 x 300 matrix\n",
        "  lowest_similarity = []\n",
        "  for i in range(len(transpose_matrix)):\n",
        "    t = 1 - distance.cdist(transpose_matrix[i], transpose_matrix[i], metric='cosine')\n",
        "    lowest_similarity.append(np.nanmin(t))\n",
        "  return lowest_similarity\n",
        "\n",
        "# 1st technique. Use original word2vec\n",
        "original_lowest_similarity = get_lowest_similarity(wordvec)\n",
        "\n",
        "# 2nd technique. Aligned vector spaces in multiple time period into one unified coordinate system. Cite: Kulkarni et al. 2015\n",
        "aligned_wordvec = np.transpose(result, axes=[1,0,2])\n",
        "aligned_lowest_similarity = get_lowest_similarity(aligned_wordvec)\n"
      ],
      "execution_count": 43,
      "outputs": []
    },
    {
      "cell_type": "code",
      "metadata": {
        "colab": {
          "base_uri": "https://localhost:8080/"
        },
        "id": "7WQcbOSkjhef",
        "outputId": "205d8fbe-b484-4a8d-b926-4d71c17ce179"
      },
      "source": [
        "# Find k - nearest neighbors for the words in the latest time period and compare \n",
        "# the average distance from the words to the knn in different time period \n",
        "def change_in_avg_knn_similarity(transpose_matrix, k = 20):\n",
        "  knn_variances = []\n",
        "\n",
        "  print(\"shape: \",transpose_matrix.shape)\n",
        "  most_recent_vec = transpose_matrix[-1] \n",
        "  t = 1 - distance.cdist(most_recent_vec, most_recent_vec, metric='cosine')\n",
        "  knn_idxs = np.argsort(t, axis=1)[:,-k:]\n",
        "\n",
        "  # Compute average similarity to the knn extracted from the latest embeddings\n",
        "  knn_similarity_matrix = np.zeros((2000,10))\n",
        "  for i in range(transpose_matrix.shape[0] - 1): \n",
        "    for j in range(transpose_matrix[i].shape[0]):\n",
        "      knn_vec_idx = knn_idxs[j]\n",
        "      knn_vec = [transpose_matrix[i][idx] for idx in knn_vec_idx]\n",
        "      t2 = 1 - distance.cdist([transpose_matrix[i][j]], knn_vec, metric='cosine')\n",
        "      knn_avg_similarity = np.nanmean(t2)\n",
        "      knn_similarity_matrix[j][i] = knn_avg_similarity\n",
        "    \n",
        "  lowest_similarity = np.nanmax(knn_similarity_matrix, axis=1)\n",
        "  print(lowest_similarity)\n",
        "  return lowest_similarity\n",
        "\n",
        "knn_lowest_similarity = change_in_avg_knn_similarity(result)"
      ],
      "execution_count": 47,
      "outputs": [
        {
          "output_type": "stream",
          "text": [
            "shape:  (10, 2000, 300)\n"
          ],
          "name": "stdout"
        },
        {
          "output_type": "stream",
          "text": [
            "/usr/local/lib/python3.6/dist-packages/ipykernel_launcher.py:18: RuntimeWarning: Mean of empty slice\n"
          ],
          "name": "stderr"
        },
        {
          "output_type": "stream",
          "text": [
            "[0.71171956 0.63251804 0.78618371 ... 0.6341876  0.42286945 0.50640446]\n"
          ],
          "name": "stdout"
        }
      ]
    },
    {
      "cell_type": "code",
      "metadata": {
        "colab": {
          "base_uri": "https://localhost:8080/"
        },
        "id": "Yyk3ZJ22GDs_",
        "outputId": "d0430d9f-9e53-4ac1-aa78-c9fbe75f5c68"
      },
      "source": [
        "def print_top_least_changing_words(similarity_list):\n",
        "  top_changing_words_idx = np.argsort(similarity_list)[:20]\n",
        "  least_changing_words_idx = np.argsort(similarity_list)[-20:]\n",
        "\n",
        "  print(\"*** Top changing words *** \")\n",
        "  for idx in top_changing_words_idx:\n",
        "    print(words[idx], similarity_list[idx])\n",
        "\n",
        "  print(\"\\n\")\n",
        "  print(\"*** Least changing words *** \")\n",
        "  for idx in least_changing_words_idx:\n",
        "    print(words[idx], similarity_list[idx])\n",
        "  print(\"\\n\")\n",
        "\n",
        "print_top_least_changing_words(original_lowest_similarity)\n",
        "print_top_least_changing_words(aligned_lowest_similarity)\n",
        "print_top_least_changing_words(knn_lowest_similarity)"
      ],
      "execution_count": 49,
      "outputs": [
        {
          "output_type": "stream",
          "text": [
            "*** Top changing words *** \n",
            "objectives 0.001491943793723638\n",
            "computer 0.0037286989725715536\n",
            "programs 0.009193959162806187\n",
            "sector 0.03764294855374328\n",
            "radio 0.0661023531947148\n",
            "goals 0.14046733860520855\n",
            "perspective 0.14433650945483845\n",
            "shri 0.15008983635207784\n",
            "impact 0.1519927313047279\n",
            "approach 0.1601394077183902\n",
            "van 0.1632516091997943\n",
            "media 0.16563333662147572\n",
            "patterns 0.1681395388842808\n",
            "assessment 0.20347145954888368\n",
            "berkeley 0.21336943788695795\n",
            "princeton 0.21725402914976133\n",
            "shift 0.22306836185908496\n",
            "therapy 0.22397008919436134\n",
            "film 0.22408106518013904\n",
            "j 0.2253758472907864\n",
            "\n",
            "\n",
            "*** Least changing words *** \n",
            "miles 0.6635236269105875\n",
            "god 0.664478619529633\n",
            "increase 0.664614595857464\n",
            "church 0.6651808143340034\n",
            "river 0.6659556416567358\n",
            "trees 0.667854533754885\n",
            "coast 0.669556882874617\n",
            "husband 0.6696337036219897\n",
            "july 0.6701699902786664\n",
            "evening 0.6723988763230423\n",
            "daughter 0.6799077592476568\n",
            "century 0.6819516331146491\n",
            "september 0.6821309871804058\n",
            "december 0.6862624200128793\n",
            "june 0.6867559988799217\n",
            "january 0.6982044498822237\n",
            "october 0.6991729577929626\n",
            "february 0.7050352297524649\n",
            "november 0.7174265466169701\n",
            "april 0.7440182919468364\n",
            "\n",
            "\n",
            "*** Top changing words *** \n",
            "mcgraw -0.74629113397005\n",
            "ministers -0.7294675133012674\n",
            "relief -0.7058556591649459\n",
            "star -0.6984947663912124\n",
            "acts -0.6878032846216122\n",
            "roof -0.6801112146660482\n",
            "chest -0.6535665272812001\n",
            "witnesses -0.6502452790542534\n",
            "bond -0.6121548092200366\n",
            "committee -0.6113049424968662\n",
            "rules -0.6067341905982757\n",
            "commons -0.5865499943157428\n",
            "grounds -0.5703722492606245\n",
            "electricity -0.567525243646835\n",
            "languages -0.5615468571620745\n",
            "corn -0.5600556953891567\n",
            "carbon -0.5539659346060168\n",
            "affair -0.5521287039541574\n",
            "breach -0.5494681194623747\n",
            "wisconsin -0.5433543331164961\n",
            "\n",
            "\n",
            "*** Least changing words *** \n",
            "war 0.6752185502461796\n",
            "summer 0.6768870770258407\n",
            "night 0.681123088568451\n",
            "decades 0.6812217582580121\n",
            "term 0.6843979224388024\n",
            "outbreak 0.6967365019318108\n",
            "couple 0.7221741927686729\n",
            "visit 0.7227010301392218\n",
            "trip 0.7469962459206884\n",
            "arrival 0.7535965709468849\n",
            "day 0.7601439432175713\n",
            "year 0.7744096645287256\n",
            "date 0.782608427741875\n",
            "duration 0.7846931057030648\n",
            "months 0.7906908624320315\n",
            "weeks 0.7961730379971969\n",
            "month 0.8012523211831861\n",
            "period 0.9999999999999996\n",
            "time 0.9999999999999996\n",
            "days 0.9999999999999998\n",
            "\n",
            "\n",
            "*** Top changing words *** \n",
            "bar 0.18050861200015816\n",
            "wall 0.19580776173191572\n",
            "acts 0.22435873738809695\n",
            "st 0.2358119011159856\n",
            "actions 0.2645722448027611\n",
            "organ 0.26982864589171673\n",
            "orders 0.27104132161458916\n",
            "pound 0.27438182912914133\n",
            "characters 0.2846980854941822\n",
            "beings 0.2852872014141191\n",
            "command 0.29109950961154796\n",
            "punishment 0.29499837910861365\n",
            "decisions 0.2994793734612759\n",
            "chamber 0.30799670863546624\n",
            "bones 0.3085583734710635\n",
            "arrangement 0.3138356422301308\n",
            "stanford 0.3163438306628387\n",
            "consumer 0.32700466186681637\n",
            "responsibility 0.32886219172280584\n",
            "fleet 0.33360719160906677\n",
            "\n",
            "\n",
            "*** Least changing words *** \n",
            "morning 0.8620866245758492\n",
            "centuries 0.8732711768982273\n",
            "august 0.8761962844494248\n",
            "spring 0.8765363909778874\n",
            "season 0.8828092187354791\n",
            "june 0.8844479277972711\n",
            "week 0.8852501297141073\n",
            "september 0.8864817438901662\n",
            "october 0.8892843229431107\n",
            "february 0.8900363751381366\n",
            "april 0.8966267323690451\n",
            "january 0.8980719543187032\n",
            "month 0.8995132426139338\n",
            "july 0.9035235119647786\n",
            "year 0.9066250319469376\n",
            "december 0.908924215435429\n",
            "day 0.909262291787031\n",
            "november 0.9188482473287853\n",
            "summer 0.9234323145142547\n",
            "months 0.9295568146443737\n",
            "\n",
            "\n"
          ],
          "name": "stdout"
        }
      ]
    },
    {
      "cell_type": "code",
      "metadata": {
        "colab": {
          "base_uri": "https://localhost:8080/",
          "height": 142
        },
        "id": "yuVdXgDRaVrq",
        "outputId": "52aecbeb-0b15-499a-e9f7-182ea6a48e6f"
      },
      "source": [
        "# Pearson Correlation\n",
        "all_method_similarity = [original_lowest_similarity, aligned_lowest_similarity, knn_lowest_similarity]\n",
        "pearcorr = np.zeros((3,3))\n",
        "\n",
        "for i in range(3):\n",
        "  for j in range(3):\n",
        "    pearcorr[i][j] = stats.pearsonr(all_method_similarity[i], all_method_similarity[j])[0]\n",
        "\n",
        "pearcorr_df = pd.DataFrame(pearcorr, columns=['non_aligned_similarity',\n",
        "                                              'aligned_similarity',\n",
        "                                              'aligned_knn_similarity'])\n",
        "\n",
        "pearcorr_df"
      ],
      "execution_count": 50,
      "outputs": [
        {
          "output_type": "execute_result",
          "data": {
            "text/html": [
              "<div>\n",
              "<style scoped>\n",
              "    .dataframe tbody tr th:only-of-type {\n",
              "        vertical-align: middle;\n",
              "    }\n",
              "\n",
              "    .dataframe tbody tr th {\n",
              "        vertical-align: top;\n",
              "    }\n",
              "\n",
              "    .dataframe thead th {\n",
              "        text-align: right;\n",
              "    }\n",
              "</style>\n",
              "<table border=\"1\" class=\"dataframe\">\n",
              "  <thead>\n",
              "    <tr style=\"text-align: right;\">\n",
              "      <th></th>\n",
              "      <th>non_aligned_similarity</th>\n",
              "      <th>aligned_similarity</th>\n",
              "      <th>aligned_knn_similarity</th>\n",
              "    </tr>\n",
              "  </thead>\n",
              "  <tbody>\n",
              "    <tr>\n",
              "      <th>0</th>\n",
              "      <td>1.000000</td>\n",
              "      <td>0.254980</td>\n",
              "      <td>0.207737</td>\n",
              "    </tr>\n",
              "    <tr>\n",
              "      <th>1</th>\n",
              "      <td>0.254980</td>\n",
              "      <td>1.000000</td>\n",
              "      <td>0.543528</td>\n",
              "    </tr>\n",
              "    <tr>\n",
              "      <th>2</th>\n",
              "      <td>0.207737</td>\n",
              "      <td>0.543528</td>\n",
              "      <td>1.000000</td>\n",
              "    </tr>\n",
              "  </tbody>\n",
              "</table>\n",
              "</div>"
            ],
            "text/plain": [
              "   non_aligned_similarity  aligned_similarity  aligned_knn_similarity\n",
              "0                1.000000            0.254980                0.207737\n",
              "1                0.254980            1.000000                0.543528\n",
              "2                0.207737            0.543528                1.000000"
            ]
          },
          "metadata": {
            "tags": []
          },
          "execution_count": 50
        }
      ]
    },
    {
      "cell_type": "code",
      "metadata": {
        "id": "kR1zazxWYOXS"
      },
      "source": [
        "def get_largest_subseq_dist(transpose_matrix):\n",
        "\n",
        "  largest_subseq_gap = []\n",
        "  period = transpose_matrix.shape[1]\n",
        "  for i in range(len(transpose_matrix)):\n",
        "    diach_wordvec = transpose_matrix[i]\n",
        "    subsequenct_cos_dist = [1 - distance.cdist([diach_wordvec[i]], \n",
        "                                          [diach_wordvec[i+1]],\n",
        "                                          metric='cosine')[0][0] for i in range(period - 1)]\n",
        "    largest_subseq_gap.append(np.nanmin(subsequenct_cos_dist))\n",
        "\n",
        "  return largest_subseq_gap"
      ],
      "execution_count": 82,
      "outputs": []
    },
    {
      "cell_type": "code",
      "metadata": {
        "colab": {
          "base_uri": "https://localhost:8080/"
        },
        "id": "R36XhiXiumDK",
        "outputId": "6428509f-8d0d-4805-c5c8-9fd88c6eb03d"
      },
      "source": [
        "diachronic_dict.keys()"
      ],
      "execution_count": 41,
      "outputs": [
        {
          "output_type": "execute_result",
          "data": {
            "text/plain": [
              "dict_keys(['w', 'd', 'E'])"
            ]
          },
          "metadata": {
            "tags": []
          },
          "execution_count": 41
        }
      ]
    },
    {
      "cell_type": "code",
      "metadata": {
        "colab": {
          "base_uri": "https://localhost:8080/"
        },
        "id": "aEN6XCyat2Vz",
        "outputId": "a53a99f5-46ea-4640-92de-287715a0138f"
      },
      "source": [
        "benchmark = get_largest_subseq_dist(wordvec)\n",
        "benchmark_aligned = get_largest_subseq_dist(aligned_wordvec)\n",
        "\n",
        "pearcorr_1 = stats.pearsonr(original_lowest_similarity, benchmark)\n",
        "pearcorr_2 = stats.pearsonr(aligned_lowest_similarity, benchmark)\n",
        "pearcorr_3 = stats.pearsonr(knn_lowest_similarity, benchmark)\n",
        "\n",
        "pearcorr_1_aligned = stats.pearsonr(original_lowest_similarity, benchmark_aligned)\n",
        "pearcorr_2_aligned = stats.pearsonr(aligned_lowest_similarity, benchmark_aligned)\n",
        "pearcorr_3_aligned = stats.pearsonr(knn_lowest_similarity, benchmark_aligned)\n",
        "\n",
        "print(\"*** NOT-ALIGNED ***\")\n",
        "print(\"Pearson correlation between evalation benchmark and first method: \", pearcorr_1)\n",
        "print(\"Pearson correlation between evalation benchmark and second method: \", pearcorr_2)\n",
        "print(\"Pearson correlation between evalation benchmark and third method: \", pearcorr_3)\n",
        "\n",
        "print(\"\\n*** ALIGNED ***\")\n",
        "print(\"Pearson correlation between evalation benchmark-aligned and first method: \", pearcorr_1_aligned)\n",
        "print(\"Pearson correlation between evalation benchmark-aligned and second method: \", pearcorr_2_aligned)\n",
        "print(\"Pearson correlation between evalation benchmark-aligned and third method: \", pearcorr_3_aligned)"
      ],
      "execution_count": 86,
      "outputs": [
        {
          "output_type": "stream",
          "text": [
            "*** NOT-ALIGNED ***\n",
            "Pearson correlation between evalation benchmark and first method:  (0.715257325395965, 3.09015021187e-313)\n",
            "Pearson correlation between evalation benchmark and second method:  (0.18017137599920124, 4.70046857501786e-16)\n",
            "Pearson correlation between evalation benchmark and third method:  (0.11742341414772953, 1.392165000782655e-07)\n",
            "\n",
            "*** ALIGNED ***\n",
            "Pearson correlation between evalation benchmark-aligned and first method:  (0.1871651109000116, 3.180696813845937e-17)\n",
            "Pearson correlation between evalation benchmark-aligned and second method:  (0.801018734668688, 0.0)\n",
            "Pearson correlation between evalation benchmark-aligned and third method:  (0.44357460345425, 3.5080849078811497e-97)\n"
          ],
          "name": "stdout"
        }
      ]
    },
    {
      "cell_type": "code",
      "metadata": {
        "colab": {
          "base_uri": "https://localhost:8080/",
          "height": 851
        },
        "id": "dkFiBAMSFtB2",
        "outputId": "d77888f9-1b6f-4eb7-a6b5-bd9eb8ff18d9"
      },
      "source": [
        "period = diachronic_dict['d']\n",
        "\n",
        "def get_historical_dist(word, wordvec_mat):\n",
        "  word_idx = words.index(word)\n",
        "  diach_wordvec = wordvec_mat[word_idx]\n",
        "  most_recent_wordvec = diach_wordvec[-1]\n",
        "\n",
        "  cos_dist_from_recent = [distance.cdist([diach_wordvec[i]], \n",
        "                                        [most_recent_wordvec],\n",
        "                                        metric='cosine')[0][0] for i in range(len(period))]\n",
        "  \n",
        "  subsequenct_cos_dist = [distance.cdist([diach_wordvec[i]], \n",
        "                                        [diach_wordvec[i+1]],\n",
        "                                        metric='cosine')[0][0] for i in range(len(period) -1)]\n",
        "  \n",
        "  filter_subsequenct_cos_dist = [value for value in subsequenct_cos_dist if not math.isnan(value)]\n",
        "  largest_val = np.amax(filter_subsequenct_cos_dist)\n",
        "  largest_dist_idx = np.where(subsequenct_cos_dist==largest_val)[0][0]\n",
        "\n",
        "  plt.title(\"Cosine distance from the most recent embedding: {}\".format(word))\n",
        "  plt.xlabel(\"Time Period\")\n",
        "  plt.ylabel(\"Cosine distance\")\n",
        "  plt.plot(period, cos_dist_from_recent) \n",
        "  plt.axvspan(period[largest_dist_idx], period[largest_dist_idx+1], \n",
        "              color='grey', alpha=0.5) # Highlight the largest semantic change. \n",
        "  plt.show()\n",
        "\n",
        "get_historical_dist('mcgraw', wordvec)\n",
        "get_historical_dist('ministers', wordvec)\n",
        "get_historical_dist('relief', wordvec)"
      ],
      "execution_count": 104,
      "outputs": [
        {
          "output_type": "display_data",
          "data": {
            "image/png": "[encoded data removed]",
            "text/plain": [
              "<Figure size 432x288 with 1 Axes>"
            ]
          },
          "metadata": {
            "tags": [],
            "needs_background": "light"
          }
        },
        {
          "output_type": "display_data",
          "data": {
            "image/png": "[encoded data removed]",
            "text/plain": [
              "<Figure size 432x288 with 1 Axes>"
            ]
          },
          "metadata": {
            "tags": [],
            "needs_background": "light"
          }
        },
        {
          "output_type": "display_data",
          "data": {
            "image/png": "[encoded data removed]",
            "text/plain": [
              "<Figure size 432x288 with 1 Axes>"
            ]
          },
          "metadata": {
            "tags": [],
            "needs_background": "light"
          }
        }
      ]
    }
  ]
}